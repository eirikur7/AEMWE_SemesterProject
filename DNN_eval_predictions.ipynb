{
 "cells": [
  {
   "cell_type": "code",
   "execution_count": 26,
   "id": "23021190",
   "metadata": {},
   "outputs": [],
   "source": [
    "import pandas as pd\n",
    "import numpy as np\n",
    "import os\n",
    "import joblib\n",
    "import matplotlib.pyplot as plt\n",
    "from sklearn.preprocessing import StandardScaler\n",
    "import tensorflow as tf\n"
   ]
  },
  {
   "cell_type": "code",
   "execution_count": 27,
   "id": "68dd25f1",
   "metadata": {},
   "outputs": [
    {
     "name": "stdout",
     "output_type": "stream",
     "text": [
      "Dataset shape: (2776, 14)\n"
     ]
    },
    {
     "data": {
      "application/vnd.microsoft.datawrangler.viewer.v0+json": {
       "columns": [
        {
         "name": "index",
         "rawType": "int64",
         "type": "integer"
        },
        {
         "name": "W_mem [m]",
         "rawType": "float64",
         "type": "float"
        },
        {
         "name": "W_GDE [m]",
         "rawType": "float64",
         "type": "float"
        },
        {
         "name": "T [degC]",
         "rawType": "float64",
         "type": "float"
        },
        {
         "name": "sigmas_MGL370 [S/m]",
         "rawType": "float64",
         "type": "float"
        },
        {
         "name": "sigmas_SS316L [S/m]",
         "rawType": "float64",
         "type": "float"
        },
        {
         "name": "eps_H2",
         "rawType": "float64",
         "type": "float"
        },
        {
         "name": "eps_O2",
         "rawType": "float64",
         "type": "float"
        },
        {
         "name": "v_in_H2 [m/s]",
         "rawType": "float64",
         "type": "float"
        },
        {
         "name": "v_in_O2 [m/s]",
         "rawType": "float64",
         "type": "float"
        },
        {
         "name": "p_gas [Pa]",
         "rawType": "float64",
         "type": "float"
        },
        {
         "name": "i0_ref_O2 [A/m^2]",
         "rawType": "float64",
         "type": "float"
        },
        {
         "name": "i0_ref_H2 [A/m^2]",
         "rawType": "float64",
         "type": "float"
        },
        {
         "name": "Time_s",
         "rawType": "float64",
         "type": "float"
        },
        {
         "name": "Voltage_V",
         "rawType": "float64",
         "type": "float"
        }
       ],
       "ref": "76bd954a-d568-4c7c-a7c3-6d32cc73d636",
       "rows": [
        [
         "0",
         "4.31287e-05",
         "0.000553387",
         "61.2245",
         "34954900.0",
         "491765.0",
         "0.787301",
         "0.707423",
         "0.00470214",
         "0.00497512",
         "2584410.0",
         "0.042804",
         "0.0326542",
         "0.0",
         "1.20181"
        ],
        [
         "1",
         "4.31287e-05",
         "0.000553387",
         "61.2245",
         "34954900.0",
         "491765.0",
         "0.787301",
         "0.707423",
         "0.00470214",
         "0.00497512",
         "2584410.0",
         "0.042804",
         "0.0326542",
         "1.00857",
         "1.78528"
        ],
        [
         "2",
         "4.31287e-05",
         "0.000553387",
         "61.2245",
         "34954900.0",
         "491765.0",
         "0.787301",
         "0.707423",
         "0.00470214",
         "0.00497512",
         "2584410.0",
         "0.042804",
         "0.0326542",
         "2.01714",
         "1.89538"
        ],
        [
         "3",
         "4.31287e-05",
         "0.000553387",
         "61.2245",
         "34954900.0",
         "491765.0",
         "0.787301",
         "0.707423",
         "0.00470214",
         "0.00497512",
         "2584410.0",
         "0.042804",
         "0.0326542",
         "3.02571",
         "1.97111"
        ],
        [
         "4",
         "4.31287e-05",
         "0.000553387",
         "61.2245",
         "34954900.0",
         "491765.0",
         "0.787301",
         "0.707423",
         "0.00470214",
         "0.00497512",
         "2584410.0",
         "0.042804",
         "0.0326542",
         "4.03429",
         "2.03213"
        ]
       ],
       "shape": {
        "columns": 14,
        "rows": 5
       }
      },
      "text/html": [
       "<div>\n",
       "<style scoped>\n",
       "    .dataframe tbody tr th:only-of-type {\n",
       "        vertical-align: middle;\n",
       "    }\n",
       "\n",
       "    .dataframe tbody tr th {\n",
       "        vertical-align: top;\n",
       "    }\n",
       "\n",
       "    .dataframe thead th {\n",
       "        text-align: right;\n",
       "    }\n",
       "</style>\n",
       "<table border=\"1\" class=\"dataframe\">\n",
       "  <thead>\n",
       "    <tr style=\"text-align: right;\">\n",
       "      <th></th>\n",
       "      <th>W_mem [m]</th>\n",
       "      <th>W_GDE [m]</th>\n",
       "      <th>T [degC]</th>\n",
       "      <th>sigmas_MGL370 [S/m]</th>\n",
       "      <th>sigmas_SS316L [S/m]</th>\n",
       "      <th>eps_H2</th>\n",
       "      <th>eps_O2</th>\n",
       "      <th>v_in_H2 [m/s]</th>\n",
       "      <th>v_in_O2 [m/s]</th>\n",
       "      <th>p_gas [Pa]</th>\n",
       "      <th>i0_ref_O2 [A/m^2]</th>\n",
       "      <th>i0_ref_H2 [A/m^2]</th>\n",
       "      <th>Time_s</th>\n",
       "      <th>Voltage_V</th>\n",
       "    </tr>\n",
       "  </thead>\n",
       "  <tbody>\n",
       "    <tr>\n",
       "      <th>0</th>\n",
       "      <td>0.000043</td>\n",
       "      <td>0.000553</td>\n",
       "      <td>61.2245</td>\n",
       "      <td>34954900.0</td>\n",
       "      <td>491765.0</td>\n",
       "      <td>0.787301</td>\n",
       "      <td>0.707423</td>\n",
       "      <td>0.004702</td>\n",
       "      <td>0.004975</td>\n",
       "      <td>2584410.0</td>\n",
       "      <td>0.042804</td>\n",
       "      <td>0.032654</td>\n",
       "      <td>0.00000</td>\n",
       "      <td>1.20181</td>\n",
       "    </tr>\n",
       "    <tr>\n",
       "      <th>1</th>\n",
       "      <td>0.000043</td>\n",
       "      <td>0.000553</td>\n",
       "      <td>61.2245</td>\n",
       "      <td>34954900.0</td>\n",
       "      <td>491765.0</td>\n",
       "      <td>0.787301</td>\n",
       "      <td>0.707423</td>\n",
       "      <td>0.004702</td>\n",
       "      <td>0.004975</td>\n",
       "      <td>2584410.0</td>\n",
       "      <td>0.042804</td>\n",
       "      <td>0.032654</td>\n",
       "      <td>1.00857</td>\n",
       "      <td>1.78528</td>\n",
       "    </tr>\n",
       "    <tr>\n",
       "      <th>2</th>\n",
       "      <td>0.000043</td>\n",
       "      <td>0.000553</td>\n",
       "      <td>61.2245</td>\n",
       "      <td>34954900.0</td>\n",
       "      <td>491765.0</td>\n",
       "      <td>0.787301</td>\n",
       "      <td>0.707423</td>\n",
       "      <td>0.004702</td>\n",
       "      <td>0.004975</td>\n",
       "      <td>2584410.0</td>\n",
       "      <td>0.042804</td>\n",
       "      <td>0.032654</td>\n",
       "      <td>2.01714</td>\n",
       "      <td>1.89538</td>\n",
       "    </tr>\n",
       "    <tr>\n",
       "      <th>3</th>\n",
       "      <td>0.000043</td>\n",
       "      <td>0.000553</td>\n",
       "      <td>61.2245</td>\n",
       "      <td>34954900.0</td>\n",
       "      <td>491765.0</td>\n",
       "      <td>0.787301</td>\n",
       "      <td>0.707423</td>\n",
       "      <td>0.004702</td>\n",
       "      <td>0.004975</td>\n",
       "      <td>2584410.0</td>\n",
       "      <td>0.042804</td>\n",
       "      <td>0.032654</td>\n",
       "      <td>3.02571</td>\n",
       "      <td>1.97111</td>\n",
       "    </tr>\n",
       "    <tr>\n",
       "      <th>4</th>\n",
       "      <td>0.000043</td>\n",
       "      <td>0.000553</td>\n",
       "      <td>61.2245</td>\n",
       "      <td>34954900.0</td>\n",
       "      <td>491765.0</td>\n",
       "      <td>0.787301</td>\n",
       "      <td>0.707423</td>\n",
       "      <td>0.004702</td>\n",
       "      <td>0.004975</td>\n",
       "      <td>2584410.0</td>\n",
       "      <td>0.042804</td>\n",
       "      <td>0.032654</td>\n",
       "      <td>4.03429</td>\n",
       "      <td>2.03213</td>\n",
       "    </tr>\n",
       "  </tbody>\n",
       "</table>\n",
       "</div>"
      ],
      "text/plain": [
       "   W_mem [m]  W_GDE [m]  T [degC]  sigmas_MGL370 [S/m]  sigmas_SS316L [S/m]  \\\n",
       "0   0.000043   0.000553   61.2245           34954900.0             491765.0   \n",
       "1   0.000043   0.000553   61.2245           34954900.0             491765.0   \n",
       "2   0.000043   0.000553   61.2245           34954900.0             491765.0   \n",
       "3   0.000043   0.000553   61.2245           34954900.0             491765.0   \n",
       "4   0.000043   0.000553   61.2245           34954900.0             491765.0   \n",
       "\n",
       "     eps_H2    eps_O2  v_in_H2 [m/s]  v_in_O2 [m/s]  p_gas [Pa]  \\\n",
       "0  0.787301  0.707423       0.004702       0.004975   2584410.0   \n",
       "1  0.787301  0.707423       0.004702       0.004975   2584410.0   \n",
       "2  0.787301  0.707423       0.004702       0.004975   2584410.0   \n",
       "3  0.787301  0.707423       0.004702       0.004975   2584410.0   \n",
       "4  0.787301  0.707423       0.004702       0.004975   2584410.0   \n",
       "\n",
       "   i0_ref_O2 [A/m^2]  i0_ref_H2 [A/m^2]   Time_s  Voltage_V  \n",
       "0           0.042804           0.032654  0.00000    1.20181  \n",
       "1           0.042804           0.032654  1.00857    1.78528  \n",
       "2           0.042804           0.032654  2.01714    1.89538  \n",
       "3           0.042804           0.032654  3.02571    1.97111  \n",
       "4           0.042804           0.032654  4.03429    2.03213  "
      ]
     },
     "execution_count": 27,
     "metadata": {},
     "output_type": "execute_result"
    }
   ],
   "source": [
    "# Paths\n",
    "MODELS_FOLDER = os.path.join(\"data\", \"DNN_trained_models\")\n",
    "LOG_FILE = os.path.join(\"data\", \"DNN_trained_models_docs.csv\")\n",
    "SIM_DATA_FILE = os.path.join(\"data\", \"COMSOL\", \"results_3D_GE_Applied_Current_1MKOH_63_02_1MKOH_input_parameters_DOE_maximin_lhs_processed_003.csv\")\n",
    "FIG_FOLDER = \"figures\"\n",
    "os.makedirs(FIG_FOLDER, exist_ok=True)\n",
    "\n",
    "df = pd.read_csv(SIM_DATA_FILE)\n",
    "print(f\"Dataset shape: {df.shape}\")\n",
    "df.head()\n"
   ]
  },
  {
   "cell_type": "code",
   "execution_count": 28,
   "id": "72f09303",
   "metadata": {},
   "outputs": [
    {
     "name": "stdout",
     "output_type": "stream",
     "text": [
      "Total number of trials: 200\n"
     ]
    }
   ],
   "source": [
    "input_cols = [\n",
    "    \"W_mem [m]\", \"W_GDE [m]\", \"T [degC]\", \"sigmas_MGL370 [S/m]\",\n",
    "    \"sigmas_SS316L [S/m]\", \"eps_H2\", \"eps_O2\", \"v_in_H2 [m/s]\",\n",
    "    \"v_in_O2 [m/s]\", \"p_gas [Pa]\", \"i0_ref_O2 [A/m^2]\", \"i0_ref_H2 [A/m^2]\"\n",
    "]\n",
    "\n",
    "output_col = \"Voltage_V\"\n",
    "\n",
    "# Group the dataset by unique parameter sets (i.e., each trial)\n",
    "grouped = df.groupby(input_cols)\n",
    "print(f\"Total number of trials: {len(grouped)}\")\n"
   ]
  },
  {
   "cell_type": "code",
   "execution_count": 29,
   "id": "11ae64a6",
   "metadata": {},
   "outputs": [],
   "source": [
    "# Select trial index\n",
    "trial_index = 100\n",
    "trial_df = list(grouped)[trial_index][1].copy()\n",
    "\n",
    "# Define input columns\n",
    "input_cols = [\n",
    "    \"W_mem [m]\", \"W_GDE [m]\", \"T [degC]\", \"sigmas_MGL370 [S/m]\",\n",
    "    \"sigmas_SS316L [S/m]\", \"eps_H2\", \"eps_O2\", \"v_in_H2 [m/s]\",\n",
    "    \"v_in_O2 [m/s]\", \"p_gas [Pa]\", \"i0_ref_O2 [A/m^2]\", \"i0_ref_H2 [A/m^2]\"\n",
    "]\n",
    "\n",
    "# Extract static inputs from one row of the trial\n",
    "base_inputs = trial_df[input_cols].iloc[0].copy()\n",
    "\n",
    "# Generate smooth Time_s (current) values\n",
    "current_range = np.linspace(trial_df[\"Time_s\"].min(), trial_df[\"Time_s\"].max(), 200)\n",
    "\n",
    "# Create synthetic inputs with varying current\n",
    "synthetic_input = pd.DataFrame([base_inputs] * len(current_range))\n",
    "synthetic_input[\"Time_s\"] = current_range\n",
    "\n",
    "# Full input order\n",
    "model_inputs = input_cols + [\"Time_s\"]\n",
    "X_smooth = synthetic_input[model_inputs].values\n",
    "\n",
    "# Load scaler used during training\n",
    "model_base = \"model_results_3D_GE_Applied_Current_1MKOH_63_02_1MKOH_input_parameters_DOE_maximin_lhs_processed_003__250526_021932\"\n",
    "scaler_path = os.path.join(MODELS_FOLDER, f\"{model_base}_scaler.pkl\")\n",
    "scaler = joblib.load(scaler_path)\n",
    "X_scaled = scaler.transform(X_smooth)"
   ]
  },
  {
   "cell_type": "code",
   "execution_count": 30,
   "id": "bf040611",
   "metadata": {},
   "outputs": [
    {
     "name": "stdout",
     "output_type": "stream",
     "text": [
      "\u001b[1m7/7\u001b[0m \u001b[32m━━━━━━━━━━━━━━━━━━━━\u001b[0m\u001b[37m\u001b[0m \u001b[1m1s\u001b[0m 139ms/step\n"
     ]
    }
   ],
   "source": [
    "model_path = os.path.join(MODELS_FOLDER, f\"{model_base}.keras\")\n",
    "model = tf.keras.models.load_model(model_path)\n",
    "\n",
    "# Predict using smooth current range\n",
    "y_pred = model.predict(X_scaled).flatten()\n"
   ]
  },
  {
   "cell_type": "code",
   "execution_count": 31,
   "id": "5feeb02d",
   "metadata": {},
   "outputs": [
    {
     "data": {
      "image/png": "[encoded data removed]",
      "text/plain": [
       "<Figure size 800x500 with 1 Axes>"
      ]
     },
     "metadata": {},
     "output_type": "display_data"
    }
   ],
   "source": [
    "plt.figure(figsize=(8, 5))\n",
    "plt.plot(trial_df[\"Time_s\"]/10, trial_df[\"Voltage_V\"], label=\"COMSOL (True)\", marker=\"o\")\n",
    "plt.plot(current_range/10, y_pred, label=\"DNN Prediction (Smooth)\", linestyle=\"--\")\n",
    "plt.xlabel(\"Current [A/cm2]\")\n",
    "plt.ylabel(\"Voltage [V]\")\n",
    "plt.title(f\"IV Curve — Trial #{trial_index}\")\n",
    "plt.legend()\n",
    "plt.grid(True)\n",
    "plt.tight_layout()\n",
    "plt.show()\n"
   ]
  }
 ],
 "metadata": {
  "kernelspec": {
   "display_name": "SemesterProject_AEMWE_py311",
   "language": "python",
   "name": "python3"
  },
  "language_info": {
   "codemirror_mode": {
    "name": "ipython",
    "version": 3
   },
   "file_extension": ".py",
   "mimetype": "text/x-python",
   "name": "python",
   "nbconvert_exporter": "python",
   "pygments_lexer": "ipython3",
   "version": "3.11.11"
  }
 },
 "nbformat": 4,
 "nbformat_minor": 5
}
