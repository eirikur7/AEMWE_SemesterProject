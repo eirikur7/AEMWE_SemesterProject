{
 "cells": [
  {
   "cell_type": "markdown",
   "id": "ce6c57e6",
   "metadata": {},
   "source": [
    "This page compares all models for give dataset. It plots model's performance metrics to get a better understanding of the models."
   ]
  }
 ],
 "metadata": {
  "language_info": {
   "name": "python"
  }
 },
 "nbformat": 4,
 "nbformat_minor": 5
}
